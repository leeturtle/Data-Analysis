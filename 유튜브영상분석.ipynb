{
  "nbformat": 4,
  "nbformat_minor": 0,
  "metadata": {
    "colab": {
      "provenance": []
    },
    "kernelspec": {
      "name": "python3",
      "display_name": "Python 3"
    },
    "language_info": {
      "name": "python"
    }
  },
  "cells": [
    {
      "cell_type": "code",
      "execution_count": null,
      "metadata": {
        "id": "kuoUvN_8nDP9"
      },
      "outputs": [],
      "source": [
        "!gdown https://drive.google.com/uc?id=1dCvJgm7hQLpFSKAz6LXs1h_J_G3_S7Zb"
      ]
    },
    {
      "cell_type": "code",
      "source": [
        "#필요한 라이브러리 불러오기\n",
        "import pandas as pd\n",
        "import matplotlib.pyplot as plt\n",
        "import seaborn as sns"
      ],
      "metadata": {
        "id": "R8VYfG93Mk0g"
      },
      "execution_count": null,
      "outputs": []
    },
    {
      "cell_type": "code",
      "source": [
        "#데이터 읽어와서 확인하기\n",
        "df=pd.read_csv('/content/KR_youtube_trending.csv')\n",
        "df.head()"
      ],
      "metadata": {
        "id": "4cKhhZpVM18J"
      },
      "execution_count": null,
      "outputs": []
    },
    {
      "cell_type": "code",
      "source": [
        "#데이터 정보 확인\n",
        "df.info()"
      ],
      "metadata": {
        "id": "cvfuZgfANGg6"
      },
      "execution_count": null,
      "outputs": []
    },
    {
      "cell_type": "code",
      "source": [
        "#'publishedAt'속성을 datetime으로 변환 0000-00-00 00:00:00\n",
        "df['publishedAt'] = pd.to_datetime(df['publishedAt'], format='%Y-%m-%dT%H:%M:%SZ')\n",
        "df.info()"
      ],
      "metadata": {
        "id": "-_gutLJONN7T"
      },
      "execution_count": null,
      "outputs": []
    },
    {
      "cell_type": "code",
      "source": [
        "def getDatetime(x):\n",
        "  if 4<x.hour<=10:  #5시~10시까지는 'morning'\n",
        "    return 'morning'\n",
        "  elif 10<x.hour<=17: #11시~17시까지는 'afternoon'\n",
        "    return 'afternoon'\n",
        "  elif 17<x.hour<=22: #18시~22까지는 'evening'\n",
        "    return 'evening'\n",
        "  else:   #나머지 시간대는 'night'\n",
        "    return 'night'\n",
        "\n",
        "#'datetime'속성에 'pupublishedAt'에 대한 시간대 저장하기\n",
        "df['datetime']=df['publishedAt'].apply(getDatetime)"
      ],
      "metadata": {
        "id": "-r6jsYqjN8aB"
      },
      "execution_count": null,
      "outputs": []
    },
    {
      "cell_type": "code",
      "source": [
        "df['datetime'].value_counts()"
      ],
      "metadata": {
        "id": "Iqy4j8XXPU1Y"
      },
      "execution_count": null,
      "outputs": []
    },
    {
      "cell_type": "code",
      "source": [
        "#trending_date을 '%Y-%m-%dT%H:%M:%SZ'형식인 datetime으로변화\n",
        "df['trending_date']=pd.to_datetime(df['trending_date'],\n",
        "                                   format='%Y-%m-%dT%H:%M:%SZ')"
      ],
      "metadata": {
        "id": "yGwZRJXRioa_"
      },
      "execution_count": null,
      "outputs": []
    },
    {
      "cell_type": "code",
      "source": [
        "#인기영상리스트로 게재(trending_date)되기까지 걸리는 시간\n",
        "df['time']=df.trending_date-df.publishedAt"
      ],
      "metadata": {
        "id": "pDj1GJpOiP5l"
      },
      "execution_count": null,
      "outputs": []
    },
    {
      "cell_type": "code",
      "source": [
        "#선그래프로 나타내기\n",
        "df['time'].value_counts().plot()"
      ],
      "metadata": {
        "id": "IvLCp7NtjFMI"
      },
      "execution_count": null,
      "outputs": []
    },
    {
      "cell_type": "code",
      "source": [
        "#조회수('view_count')가 가장 많은 유튜브영상 정보 확인:loc,idxmax()\n",
        "df.loc[df['view_count'].idxmax()]"
      ],
      "metadata": {
        "id": "kF0-OkEpeQHa"
      },
      "execution_count": null,
      "outputs": []
    },
    {
      "cell_type": "code",
      "source": [
        "#싫어요('dislikes')가 가장 많은 유튜브영상 정보 확인:loc,idxmax()\n",
        "df.loc[df['dislikes'].idxmax()]"
      ],
      "metadata": {
        "id": "T0EHR-WBkNez"
      },
      "execution_count": null,
      "outputs": []
    },
    {
      "cell_type": "code",
      "source": [
        "#좋아요('likes')가 가장 많은 유튜브영상 정보 확인:loc,idxmax()\n",
        "df.loc[df['likes'].idxmax()]"
      ],
      "metadata": {
        "id": "-xsk6tpZkbsa"
      },
      "execution_count": null,
      "outputs": []
    },
    {
      "cell_type": "markdown",
      "source": [
        "\n",
        "# **업로드 시간에 따른 분석**\n",
        "\n",
        "\n"
      ],
      "metadata": {
        "id": "3oCr2_9EPbPe"
      }
    },
    {
      "cell_type": "code",
      "source": [
        "df['datetime']"
      ],
      "metadata": {
        "id": "yiOsCzdpPaNh"
      },
      "execution_count": null,
      "outputs": []
    },
    {
      "cell_type": "code",
      "source": [
        "#업로드 시간대별로 'datetime'은 count, 'likes'는 mean, 'dislikes'는 'mean'으로 계산\n",
        "df_groupby=df.groupby('datetime').agg({'datetime': 'count', 'likes': 'mean', 'dislikes': 'mean'})\n",
        "df_groupby.head()"
      ],
      "metadata": {
        "id": "oCyIYPlFPsWf"
      },
      "execution_count": null,
      "outputs": []
    },
    {
      "cell_type": "code",
      "source": [
        "#시간대별에 따른 업로드 빈도수를 막대그래프로 시각화\n",
        "sns.barplot(data=df_groupby, x=df_groupby.index, y='datetime')"
      ],
      "metadata": {
        "id": "fIz280vyQVva"
      },
      "execution_count": null,
      "outputs": []
    },
    {
      "cell_type": "code",
      "source": [
        "#시간대별로 '좋아요' 빈도수를 막대그래프로 시각화\n",
        "sns.barplot(data=df_groupby, x=df_groupby.index, y='likes')"
      ],
      "metadata": {
        "id": "CM4hvDpBQteN"
      },
      "execution_count": null,
      "outputs": []
    },
    {
      "cell_type": "code",
      "source": [
        "#시간대별로 '싫어요'빈도수를 막대그래프로 시각화\n",
        "sns.barplot(data=df_groupby, x=df_groupby.index, y='dislikes')"
      ],
      "metadata": {
        "id": "PdviToP3XokI"
      },
      "execution_count": null,
      "outputs": []
    },
    {
      "cell_type": "markdown",
      "source": [
        "# **카테고리에 따른 view count**"
      ],
      "metadata": {
        "id": "2WvUTvYMX_ex"
      }
    },
    {
      "cell_type": "code",
      "source": [
        "#카테고리별 조회수, 좋아요, 싫어요,댓글 평균 수\n",
        "df_groupby2=df.groupby('categoryId').agg({'view_count': 'mean', 'likes': 'mean', 'dislikes': 'mean', 'comment_count': 'mean'})\n",
        "df_groupby2"
      ],
      "metadata": {
        "id": "SBsWTKm3Zacy"
      },
      "execution_count": null,
      "outputs": []
    },
    {
      "cell_type": "code",
      "source": [
        "#카테고리별 조회수를 막대그래프로 시각화\n",
        "sns.barplot(data=df_groupby2, x=df_groupby2.index, y='view_count')"
      ],
      "metadata": {
        "id": "r2EkTgrCdkpU"
      },
      "execution_count": null,
      "outputs": []
    },
    {
      "cell_type": "code",
      "source": [
        "#카테고리별 좋아요수를 막대그래프로 시각화\n",
        "sns.barplot(data=df_groupby2, x=df_groupby2.index, y='likes')"
      ],
      "metadata": {
        "id": "Qdv3biEVdzZn"
      },
      "execution_count": null,
      "outputs": []
    },
    {
      "cell_type": "code",
      "source": [
        "#카테고리별로 싫어요 수 막대그래프로 시각화\n",
        "sns.barplot(data=df_groupby2, x=df_groupby2.index, y='dislikes')"
      ],
      "metadata": {
        "id": "ZVO_MyDFd-nK"
      },
      "execution_count": null,
      "outputs": []
    },
    {
      "cell_type": "code",
      "source": [
        "#카테고리별로 별점막은 것과 댓글 막은 것 카운트\n",
        "temp=df.groupby('categoryId').agg({'ratings_disabled': 'count', 'comments_disabled': 'count'})"
      ],
      "metadata": {
        "id": "FdsJccB5lDxT"
      },
      "execution_count": null,
      "outputs": []
    },
    {
      "cell_type": "code",
      "source": [
        "#카테고리별로 별점 막은 수 막대그래프로 시각화\n",
        "#별점을 막으면 좋아요 싫어요는 0\n",
        "sns.barplot(data=temp, x=temp.index, y='ratings_disabled')"
      ],
      "metadata": {
        "id": "dNr32xvRl7_m"
      },
      "execution_count": null,
      "outputs": []
    },
    {
      "cell_type": "code",
      "source": [
        "#카테고리별로 댓글 막은 수 막대그래프 시각화\n",
        "sns.barplot(data=temp, x=temp.index, y='comments_disabled')"
      ],
      "metadata": {
        "id": "TLHuEfOmmygC"
      },
      "execution_count": null,
      "outputs": []
    },
    {
      "cell_type": "markdown",
      "source": [
        "=> 카테고리별로 보았을때 엔터테이먼트 장르에서 댓글이나 좋아요 싫어요를 비활성화함\n",
        "=>엔터테이먼트는 인기영상인지 확인하기 위해서 댓글 수나 좋아요 싫어요 수를 분석하기 어려움, 조회수로 확인할 수 있음"
      ],
      "metadata": {
        "id": "TLM_cBX96DtO"
      }
    },
    {
      "cell_type": "code",
      "source": [
        "#카테고리별 조회수를 게재일을 구분하여 막대그래프로 시각화하기\n",
        "sns.barplot(data=df, x='categoryId', y='view_count', hue='datetime')"
      ],
      "metadata": {
        "id": "PgXGDCaenJQE"
      },
      "execution_count": null,
      "outputs": []
    },
    {
      "cell_type": "code",
      "source": [
        "#카테고리별 좋아요수를 게재일로 구분하여 막대그래프로 시각화하기\n",
        "sns.barplot(data=df, x='categoryId', y='likes', hue='datetime')"
      ],
      "metadata": {
        "id": "z7u7tRR-nxRw"
      },
      "execution_count": null,
      "outputs": []
    },
    {
      "cell_type": "code",
      "source": [
        "#조금 더 다양하게 분석해 보고 결과를 작성하여 제출하세요"
      ],
      "metadata": {
        "id": "QViSJk5BoKe-"
      },
      "execution_count": null,
      "outputs": []
    },
    {
      "cell_type": "markdown",
      "source": [
        "#1. 좋아요 수와 조회수 분석\n",
        "\n",
        "\n",
        "\n"
      ],
      "metadata": {
        "id": "ryNUnjwE3hPL"
      }
    },
    {
      "cell_type": "code",
      "source": [
        "#좋아요 수 별 조회수를 게재시간을 구분하여 막대그래프로 시각화하기\n",
        "sns.barplot(data=df, x='likes', y='view_count', hue='datetime')"
      ],
      "metadata": {
        "id": "JOwgb4TtPEiF"
      },
      "execution_count": null,
      "outputs": []
    },
    {
      "cell_type": "markdown",
      "source": [
        "# 2. 싫어요 수와 조회수 분석\n"
      ],
      "metadata": {
        "id": "LDy_6R6OPSP7"
      }
    },
    {
      "cell_type": "code",
      "source": [
        "#싫어요 수 별 조회수를 게재시간을 구분하여 막대그래프로 시각화하기\n",
        "sns.barplot(data=df, x='dislikes', y='view_count', hue='datetime')"
      ],
      "metadata": {
        "id": "u6wrbqS2QXKp"
      },
      "execution_count": null,
      "outputs": []
    },
    {
      "cell_type": "markdown",
      "source": [
        "#3."
      ],
      "metadata": {
        "id": "AA4eH6BNfYzX"
      }
    },
    {
      "cell_type": "code",
      "source": [
        "\n",
        "df = pd.DataFrame(data)\n",
        "\n",
        "# 좋아요 수로 데이터 정렬\n",
        "df = df.sort_values(by='likes', ascending=False)\n",
        "\n",
        "# 상위 10개 채널 선택\n",
        "top_10_channels = df.head(10)\n",
        "\n",
        "# 그래프 크기 설정\n",
        "plt.figure(figsize=(12, 6))\n",
        "\n",
        "\n",
        "plt.bar(top_10_channels['channelTitle'], top_10_channels['dislikes'], color='blue', label='싫어요 수', alpha=0.7)\n",
        "plt.bar(top_10_channels['channelTitle'], top_10_channels['view_count'], color='green', label='조회수', alpha=0.5)\n",
        "\n",
        "plt.xlabel('채널명')\n",
        "plt.ylabel('좋아요, 싫어요 및 조회수')\n",
        "plt.title('좋아요, 싫어요 및 조회수 막대 그래프 (상위 10개 채널)')\n",
        "plt.xticks(rotation=45)\n",
        "plt.legend()\n",
        "plt.show()"
      ],
      "metadata": {
        "id": "5kxLBi6wVFHT"
      },
      "execution_count": null,
      "outputs": []
    }
  ]
}